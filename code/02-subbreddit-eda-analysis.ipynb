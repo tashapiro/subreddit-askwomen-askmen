{
 "cells": [
  {
   "cell_type": "markdown",
   "metadata": {},
   "source": [
    "# Part 2: Subreddit EDA Analysis\n",
    "In this phase, we will use the data collected in Part 1 and perform preliminary EDA to understand the data. Is it balanced? Can we see discrepancies between the subreddits, what are they? What some of the key words and phrases used?"
   ]
  },
  {
   "cell_type": "markdown",
   "metadata": {},
   "source": [
    "**Import Packages**"
   ]
  },
  {
   "cell_type": "code",
   "execution_count": 88,
   "metadata": {},
   "outputs": [],
   "source": [
    "import pandas as pd\n",
    "from plotnine import *\n",
    "import matplotlib.pyplot as plt\n",
    "import seaborn as sns\n",
    "import numpy as np\n",
    "import re\n",
    "\n",
    "from sklearn.feature_extraction.text import CountVectorizer"
   ]
  },
  {
   "cell_type": "markdown",
   "metadata": {},
   "source": [
    "## 2.1. Preview Data"
   ]
  },
  {
   "cell_type": "code",
   "execution_count": 89,
   "metadata": {},
   "outputs": [],
   "source": [
    "df = pd.read_csv(\"../data/women_men.csv\")"
   ]
  },
  {
   "cell_type": "code",
   "execution_count": 90,
   "metadata": {},
   "outputs": [
    {
     "data": {
      "text/html": [
       "<div>\n",
       "<style scoped>\n",
       "    .dataframe tbody tr th:only-of-type {\n",
       "        vertical-align: middle;\n",
       "    }\n",
       "\n",
       "    .dataframe tbody tr th {\n",
       "        vertical-align: top;\n",
       "    }\n",
       "\n",
       "    .dataframe thead th {\n",
       "        text-align: right;\n",
       "    }\n",
       "</style>\n",
       "<table border=\"1\" class=\"dataframe\">\n",
       "  <thead>\n",
       "    <tr style=\"text-align: right;\">\n",
       "      <th></th>\n",
       "      <th>Unnamed: 0</th>\n",
       "      <th>id</th>\n",
       "      <th>subreddit</th>\n",
       "      <th>created_utc</th>\n",
       "      <th>is_video</th>\n",
       "      <th>spoiler</th>\n",
       "      <th>is_self</th>\n",
       "      <th>score</th>\n",
       "      <th>is_original_content</th>\n",
       "      <th>is_created_from_ads_ui</th>\n",
       "      <th>...</th>\n",
       "      <th>selftext</th>\n",
       "      <th>all_text</th>\n",
       "      <th>title_length</th>\n",
       "      <th>selftext_length</th>\n",
       "      <th>all_text_length</th>\n",
       "      <th>title_words</th>\n",
       "      <th>selftext_words</th>\n",
       "      <th>all_text_words</th>\n",
       "      <th>no_links_text</th>\n",
       "      <th>contains_link</th>\n",
       "    </tr>\n",
       "  </thead>\n",
       "  <tbody>\n",
       "    <tr>\n",
       "      <th>0</th>\n",
       "      <td>0</td>\n",
       "      <td>n4c2kk</td>\n",
       "      <td>AskWomen</td>\n",
       "      <td>2021-05-03 20:48:28</td>\n",
       "      <td>False</td>\n",
       "      <td>False</td>\n",
       "      <td>True</td>\n",
       "      <td>1</td>\n",
       "      <td>False</td>\n",
       "      <td>NaN</td>\n",
       "      <td>...</td>\n",
       "      <td>NaN</td>\n",
       "      <td>What is a fragrance you love or you get a lot ...</td>\n",
       "      <td>64</td>\n",
       "      <td>0</td>\n",
       "      <td>65</td>\n",
       "      <td>14</td>\n",
       "      <td>0</td>\n",
       "      <td>14</td>\n",
       "      <td>What is a fragrance you love or you get a lot ...</td>\n",
       "      <td>0</td>\n",
       "    </tr>\n",
       "    <tr>\n",
       "      <th>1</th>\n",
       "      <td>1</td>\n",
       "      <td>n4c0tz</td>\n",
       "      <td>AskWomen</td>\n",
       "      <td>2021-05-03 20:46:05</td>\n",
       "      <td>False</td>\n",
       "      <td>False</td>\n",
       "      <td>True</td>\n",
       "      <td>1</td>\n",
       "      <td>False</td>\n",
       "      <td>NaN</td>\n",
       "      <td>...</td>\n",
       "      <td>NaN</td>\n",
       "      <td>Women of reddit (I'm sorry if this has been as...</td>\n",
       "      <td>123</td>\n",
       "      <td>0</td>\n",
       "      <td>124</td>\n",
       "      <td>20</td>\n",
       "      <td>0</td>\n",
       "      <td>20</td>\n",
       "      <td>Women of reddit (I'm sorry if this has been as...</td>\n",
       "      <td>0</td>\n",
       "    </tr>\n",
       "    <tr>\n",
       "      <th>2</th>\n",
       "      <td>2</td>\n",
       "      <td>n4bymt</td>\n",
       "      <td>AskWomen</td>\n",
       "      <td>2021-05-03 20:42:50</td>\n",
       "      <td>False</td>\n",
       "      <td>False</td>\n",
       "      <td>True</td>\n",
       "      <td>1</td>\n",
       "      <td>False</td>\n",
       "      <td>NaN</td>\n",
       "      <td>...</td>\n",
       "      <td>NaN</td>\n",
       "      <td>What is this called? What is going on? Is this...</td>\n",
       "      <td>54</td>\n",
       "      <td>0</td>\n",
       "      <td>55</td>\n",
       "      <td>11</td>\n",
       "      <td>0</td>\n",
       "      <td>11</td>\n",
       "      <td>What is this called? What is going on? Is this...</td>\n",
       "      <td>0</td>\n",
       "    </tr>\n",
       "  </tbody>\n",
       "</table>\n",
       "<p>3 rows × 27 columns</p>\n",
       "</div>"
      ],
      "text/plain": [
       "   Unnamed: 0      id subreddit          created_utc  is_video  spoiler  \\\n",
       "0           0  n4c2kk  AskWomen  2021-05-03 20:48:28     False    False   \n",
       "1           1  n4c0tz  AskWomen  2021-05-03 20:46:05     False    False   \n",
       "2           2  n4bymt  AskWomen  2021-05-03 20:42:50     False    False   \n",
       "\n",
       "   is_self  score  is_original_content is_created_from_ads_ui  ...  selftext  \\\n",
       "0     True      1                False                    NaN  ...       NaN   \n",
       "1     True      1                False                    NaN  ...       NaN   \n",
       "2     True      1                False                    NaN  ...       NaN   \n",
       "\n",
       "                                            all_text  title_length  \\\n",
       "0  What is a fragrance you love or you get a lot ...            64   \n",
       "1  Women of reddit (I'm sorry if this has been as...           123   \n",
       "2  What is this called? What is going on? Is this...            54   \n",
       "\n",
       "   selftext_length all_text_length title_words selftext_words all_text_words  \\\n",
       "0                0              65          14              0             14   \n",
       "1                0             124          20              0             20   \n",
       "2                0              55          11              0             11   \n",
       "\n",
       "                                       no_links_text  contains_link  \n",
       "0  What is a fragrance you love or you get a lot ...              0  \n",
       "1  Women of reddit (I'm sorry if this has been as...              0  \n",
       "2  What is this called? What is going on? Is this...              0  \n",
       "\n",
       "[3 rows x 27 columns]"
      ]
     },
     "execution_count": 90,
     "metadata": {},
     "output_type": "execute_result"
    }
   ],
   "source": [
    "df.head(3)"
   ]
  },
  {
   "cell_type": "code",
   "execution_count": 91,
   "metadata": {
    "scrolled": true
   },
   "outputs": [
    {
     "name": "stdout",
     "output_type": "stream",
     "text": [
      "<class 'pandas.core.frame.DataFrame'>\n",
      "RangeIndex: 20000 entries, 0 to 19999\n",
      "Data columns (total 27 columns):\n",
      " #   Column                  Non-Null Count  Dtype \n",
      "---  ------                  --------------  ----- \n",
      " 0   Unnamed: 0              20000 non-null  int64 \n",
      " 1   id                      20000 non-null  object\n",
      " 2   subreddit               20000 non-null  object\n",
      " 3   created_utc             20000 non-null  object\n",
      " 4   is_video                20000 non-null  bool  \n",
      " 5   spoiler                 20000 non-null  bool  \n",
      " 6   is_self                 20000 non-null  bool  \n",
      " 7   score                   20000 non-null  int64 \n",
      " 8   is_original_content     20000 non-null  bool  \n",
      " 9   is_created_from_ads_ui  10078 non-null  object\n",
      " 10  media_only              20000 non-null  bool  \n",
      " 11  over_18                 20000 non-null  bool  \n",
      " 12  num_comments            20000 non-null  int64 \n",
      " 13  num_crossposts          20000 non-null  int64 \n",
      " 14  author                  20000 non-null  object\n",
      " 15  author_premium          18477 non-null  object\n",
      " 16  title                   20000 non-null  object\n",
      " 17  selftext                3135 non-null   object\n",
      " 18  all_text                20000 non-null  object\n",
      " 19  title_length            20000 non-null  int64 \n",
      " 20  selftext_length         20000 non-null  int64 \n",
      " 21  all_text_length         20000 non-null  int64 \n",
      " 22  title_words             20000 non-null  int64 \n",
      " 23  selftext_words          20000 non-null  int64 \n",
      " 24  all_text_words          20000 non-null  int64 \n",
      " 25  no_links_text           20000 non-null  object\n",
      " 26  contains_link           20000 non-null  int64 \n",
      "dtypes: bool(6), int64(11), object(10)\n",
      "memory usage: 3.3+ MB\n"
     ]
    }
   ],
   "source": [
    "df.info()"
   ]
  },
  {
   "cell_type": "code",
   "execution_count": 92,
   "metadata": {},
   "outputs": [
    {
     "data": {
      "text/html": [
       "<div>\n",
       "<style scoped>\n",
       "    .dataframe tbody tr th:only-of-type {\n",
       "        vertical-align: middle;\n",
       "    }\n",
       "\n",
       "    .dataframe tbody tr th {\n",
       "        vertical-align: top;\n",
       "    }\n",
       "\n",
       "    .dataframe thead th {\n",
       "        text-align: right;\n",
       "    }\n",
       "</style>\n",
       "<table border=\"1\" class=\"dataframe\">\n",
       "  <thead>\n",
       "    <tr style=\"text-align: right;\">\n",
       "      <th></th>\n",
       "      <th>Unnamed: 0</th>\n",
       "      <th>score</th>\n",
       "      <th>num_comments</th>\n",
       "      <th>num_crossposts</th>\n",
       "      <th>title_length</th>\n",
       "      <th>selftext_length</th>\n",
       "      <th>all_text_length</th>\n",
       "      <th>title_words</th>\n",
       "      <th>selftext_words</th>\n",
       "      <th>all_text_words</th>\n",
       "      <th>contains_link</th>\n",
       "    </tr>\n",
       "  </thead>\n",
       "  <tbody>\n",
       "    <tr>\n",
       "      <th>count</th>\n",
       "      <td>20000.000000</td>\n",
       "      <td>20000.000000</td>\n",
       "      <td>20000.000000</td>\n",
       "      <td>20000.000000</td>\n",
       "      <td>20000.000000</td>\n",
       "      <td>20000.000000</td>\n",
       "      <td>20000.000000</td>\n",
       "      <td>20000.000000</td>\n",
       "      <td>20000.000000</td>\n",
       "      <td>20000.00000</td>\n",
       "      <td>20000.000000</td>\n",
       "    </tr>\n",
       "    <tr>\n",
       "      <th>mean</th>\n",
       "      <td>4999.500000</td>\n",
       "      <td>3.740200</td>\n",
       "      <td>18.037100</td>\n",
       "      <td>0.000600</td>\n",
       "      <td>69.504000</td>\n",
       "      <td>49.412700</td>\n",
       "      <td>119.916700</td>\n",
       "      <td>13.165350</td>\n",
       "      <td>9.406600</td>\n",
       "      <td>22.57195</td>\n",
       "      <td>0.001650</td>\n",
       "    </tr>\n",
       "    <tr>\n",
       "      <th>std</th>\n",
       "      <td>2886.823503</td>\n",
       "      <td>147.444395</td>\n",
       "      <td>141.262419</td>\n",
       "      <td>0.043586</td>\n",
       "      <td>40.279557</td>\n",
       "      <td>207.680123</td>\n",
       "      <td>211.724671</td>\n",
       "      <td>7.598157</td>\n",
       "      <td>39.630531</td>\n",
       "      <td>40.42861</td>\n",
       "      <td>0.040588</td>\n",
       "    </tr>\n",
       "    <tr>\n",
       "      <th>min</th>\n",
       "      <td>0.000000</td>\n",
       "      <td>0.000000</td>\n",
       "      <td>0.000000</td>\n",
       "      <td>0.000000</td>\n",
       "      <td>1.000000</td>\n",
       "      <td>0.000000</td>\n",
       "      <td>2.000000</td>\n",
       "      <td>1.000000</td>\n",
       "      <td>0.000000</td>\n",
       "      <td>1.00000</td>\n",
       "      <td>0.000000</td>\n",
       "    </tr>\n",
       "    <tr>\n",
       "      <th>25%</th>\n",
       "      <td>2499.750000</td>\n",
       "      <td>1.000000</td>\n",
       "      <td>1.000000</td>\n",
       "      <td>0.000000</td>\n",
       "      <td>42.000000</td>\n",
       "      <td>0.000000</td>\n",
       "      <td>47.000000</td>\n",
       "      <td>8.000000</td>\n",
       "      <td>0.000000</td>\n",
       "      <td>9.00000</td>\n",
       "      <td>0.000000</td>\n",
       "    </tr>\n",
       "    <tr>\n",
       "      <th>50%</th>\n",
       "      <td>4999.500000</td>\n",
       "      <td>1.000000</td>\n",
       "      <td>2.000000</td>\n",
       "      <td>0.000000</td>\n",
       "      <td>61.000000</td>\n",
       "      <td>0.000000</td>\n",
       "      <td>70.000000</td>\n",
       "      <td>12.000000</td>\n",
       "      <td>0.000000</td>\n",
       "      <td>13.00000</td>\n",
       "      <td>0.000000</td>\n",
       "    </tr>\n",
       "    <tr>\n",
       "      <th>75%</th>\n",
       "      <td>7499.250000</td>\n",
       "      <td>1.000000</td>\n",
       "      <td>6.000000</td>\n",
       "      <td>0.000000</td>\n",
       "      <td>87.000000</td>\n",
       "      <td>0.000000</td>\n",
       "      <td>109.000000</td>\n",
       "      <td>16.000000</td>\n",
       "      <td>0.000000</td>\n",
       "      <td>20.00000</td>\n",
       "      <td>0.000000</td>\n",
       "    </tr>\n",
       "    <tr>\n",
       "      <th>max</th>\n",
       "      <td>9999.000000</td>\n",
       "      <td>14201.000000</td>\n",
       "      <td>8176.000000</td>\n",
       "      <td>5.000000</td>\n",
       "      <td>305.000000</td>\n",
       "      <td>5325.000000</td>\n",
       "      <td>5422.000000</td>\n",
       "      <td>68.000000</td>\n",
       "      <td>1006.000000</td>\n",
       "      <td>1025.00000</td>\n",
       "      <td>1.000000</td>\n",
       "    </tr>\n",
       "  </tbody>\n",
       "</table>\n",
       "</div>"
      ],
      "text/plain": [
       "         Unnamed: 0         score  num_comments  num_crossposts  title_length  \\\n",
       "count  20000.000000  20000.000000  20000.000000    20000.000000  20000.000000   \n",
       "mean    4999.500000      3.740200     18.037100        0.000600     69.504000   \n",
       "std     2886.823503    147.444395    141.262419        0.043586     40.279557   \n",
       "min        0.000000      0.000000      0.000000        0.000000      1.000000   \n",
       "25%     2499.750000      1.000000      1.000000        0.000000     42.000000   \n",
       "50%     4999.500000      1.000000      2.000000        0.000000     61.000000   \n",
       "75%     7499.250000      1.000000      6.000000        0.000000     87.000000   \n",
       "max     9999.000000  14201.000000   8176.000000        5.000000    305.000000   \n",
       "\n",
       "       selftext_length  all_text_length   title_words  selftext_words  \\\n",
       "count     20000.000000     20000.000000  20000.000000    20000.000000   \n",
       "mean         49.412700       119.916700     13.165350        9.406600   \n",
       "std         207.680123       211.724671      7.598157       39.630531   \n",
       "min           0.000000         2.000000      1.000000        0.000000   \n",
       "25%           0.000000        47.000000      8.000000        0.000000   \n",
       "50%           0.000000        70.000000     12.000000        0.000000   \n",
       "75%           0.000000       109.000000     16.000000        0.000000   \n",
       "max        5325.000000      5422.000000     68.000000     1006.000000   \n",
       "\n",
       "       all_text_words  contains_link  \n",
       "count     20000.00000   20000.000000  \n",
       "mean         22.57195       0.001650  \n",
       "std          40.42861       0.040588  \n",
       "min           1.00000       0.000000  \n",
       "25%           9.00000       0.000000  \n",
       "50%          13.00000       0.000000  \n",
       "75%          20.00000       0.000000  \n",
       "max        1025.00000       1.000000  "
      ]
     },
     "execution_count": 92,
     "metadata": {},
     "output_type": "execute_result"
    }
   ],
   "source": [
    "df.describe()"
   ]
  },
  {
   "cell_type": "code",
   "execution_count": 93,
   "metadata": {},
   "outputs": [
    {
     "data": {
      "text/plain": [
       "(20000, 27)"
      ]
     },
     "execution_count": 93,
     "metadata": {},
     "output_type": "execute_result"
    }
   ],
   "source": [
    "df.shape"
   ]
  },
  {
   "cell_type": "markdown",
   "metadata": {},
   "source": [
    "Is the dataset balanced? What is the division of data between subreddits?"
   ]
  },
  {
   "cell_type": "code",
   "execution_count": 94,
   "metadata": {},
   "outputs": [
    {
     "data": {
      "text/plain": [
       "AskWomen    0.5\n",
       "AskMen      0.5\n",
       "Name: subreddit, dtype: float64"
      ]
     },
     "execution_count": 94,
     "metadata": {},
     "output_type": "execute_result"
    }
   ],
   "source": [
    "df.subreddit.value_counts(normalize=True)"
   ]
  },
  {
   "cell_type": "code",
   "execution_count": 95,
   "metadata": {},
   "outputs": [],
   "source": [
    "sub1 = df.subreddit.unique()[0]\n",
    "sub2 = df.subreddit.unique()[1]"
   ]
  },
  {
   "cell_type": "code",
   "execution_count": 96,
   "metadata": {},
   "outputs": [
    {
     "data": {
      "text/plain": [
       "[deleted]            1523\n",
       "SkepticDrinker         39\n",
       "notdatsrs              27\n",
       "RandomlyGenerate5      27\n",
       "corona_coaster         24\n",
       "Name: author, dtype: int64"
      ]
     },
     "execution_count": 96,
     "metadata": {},
     "output_type": "execute_result"
    }
   ],
   "source": [
    "df.author.value_counts().sort_values(ascending=False).head(5)"
   ]
  },
  {
   "cell_type": "code",
   "execution_count": 97,
   "metadata": {},
   "outputs": [
    {
     "data": {
      "text/plain": [
       "(19988, 27)"
      ]
     },
     "execution_count": 97,
     "metadata": {},
     "output_type": "execute_result"
    }
   ],
   "source": [
    "df = df[df['author']!=\"AutoModerator\"]\n",
    "df = df[df['author']!=\"splat_bot\"]\n",
    "df.shape"
   ]
  },
  {
   "cell_type": "code",
   "execution_count": 98,
   "metadata": {},
   "outputs": [
    {
     "data": {
      "text/plain": [
       "AskMen      10000\n",
       "AskWomen     9988\n",
       "Name: subreddit, dtype: int64"
      ]
     },
     "execution_count": 98,
     "metadata": {},
     "output_type": "execute_result"
    }
   ],
   "source": [
    "df.subreddit.value_counts()"
   ]
  },
  {
   "cell_type": "code",
   "execution_count": 99,
   "metadata": {},
   "outputs": [
    {
     "data": {
      "text/html": [
       "<div>\n",
       "<style scoped>\n",
       "    .dataframe tbody tr th:only-of-type {\n",
       "        vertical-align: middle;\n",
       "    }\n",
       "\n",
       "    .dataframe tbody tr th {\n",
       "        vertical-align: top;\n",
       "    }\n",
       "\n",
       "    .dataframe thead th {\n",
       "        text-align: right;\n",
       "    }\n",
       "</style>\n",
       "<table border=\"1\" class=\"dataframe\">\n",
       "  <thead>\n",
       "    <tr style=\"text-align: right;\">\n",
       "      <th></th>\n",
       "      <th>Unnamed: 0</th>\n",
       "      <th>id</th>\n",
       "      <th>subreddit</th>\n",
       "      <th>created_utc</th>\n",
       "      <th>is_video</th>\n",
       "      <th>spoiler</th>\n",
       "      <th>is_self</th>\n",
       "      <th>score</th>\n",
       "      <th>is_original_content</th>\n",
       "      <th>is_created_from_ads_ui</th>\n",
       "      <th>...</th>\n",
       "      <th>selftext</th>\n",
       "      <th>all_text</th>\n",
       "      <th>title_length</th>\n",
       "      <th>selftext_length</th>\n",
       "      <th>all_text_length</th>\n",
       "      <th>title_words</th>\n",
       "      <th>selftext_words</th>\n",
       "      <th>all_text_words</th>\n",
       "      <th>no_links_text</th>\n",
       "      <th>contains_link</th>\n",
       "    </tr>\n",
       "  </thead>\n",
       "  <tbody>\n",
       "    <tr>\n",
       "      <th>0</th>\n",
       "      <td>0</td>\n",
       "      <td>n4c2kk</td>\n",
       "      <td>AskWomen</td>\n",
       "      <td>2021-05-03 20:48:28</td>\n",
       "      <td>False</td>\n",
       "      <td>False</td>\n",
       "      <td>True</td>\n",
       "      <td>1</td>\n",
       "      <td>False</td>\n",
       "      <td>NaN</td>\n",
       "      <td>...</td>\n",
       "      <td>NaN</td>\n",
       "      <td>What is a fragrance you love or you get a lot ...</td>\n",
       "      <td>64</td>\n",
       "      <td>0</td>\n",
       "      <td>65</td>\n",
       "      <td>14</td>\n",
       "      <td>0</td>\n",
       "      <td>14</td>\n",
       "      <td>What is a fragrance you love or you get a lot ...</td>\n",
       "      <td>0</td>\n",
       "    </tr>\n",
       "    <tr>\n",
       "      <th>1</th>\n",
       "      <td>1</td>\n",
       "      <td>n4c0tz</td>\n",
       "      <td>AskWomen</td>\n",
       "      <td>2021-05-03 20:46:05</td>\n",
       "      <td>False</td>\n",
       "      <td>False</td>\n",
       "      <td>True</td>\n",
       "      <td>1</td>\n",
       "      <td>False</td>\n",
       "      <td>NaN</td>\n",
       "      <td>...</td>\n",
       "      <td>NaN</td>\n",
       "      <td>Women of reddit (I'm sorry if this has been as...</td>\n",
       "      <td>123</td>\n",
       "      <td>0</td>\n",
       "      <td>124</td>\n",
       "      <td>20</td>\n",
       "      <td>0</td>\n",
       "      <td>20</td>\n",
       "      <td>Women of reddit (I'm sorry if this has been as...</td>\n",
       "      <td>0</td>\n",
       "    </tr>\n",
       "    <tr>\n",
       "      <th>2</th>\n",
       "      <td>2</td>\n",
       "      <td>n4bymt</td>\n",
       "      <td>AskWomen</td>\n",
       "      <td>2021-05-03 20:42:50</td>\n",
       "      <td>False</td>\n",
       "      <td>False</td>\n",
       "      <td>True</td>\n",
       "      <td>1</td>\n",
       "      <td>False</td>\n",
       "      <td>NaN</td>\n",
       "      <td>...</td>\n",
       "      <td>NaN</td>\n",
       "      <td>What is this called? What is going on? Is this...</td>\n",
       "      <td>54</td>\n",
       "      <td>0</td>\n",
       "      <td>55</td>\n",
       "      <td>11</td>\n",
       "      <td>0</td>\n",
       "      <td>11</td>\n",
       "      <td>What is this called? What is going on? Is this...</td>\n",
       "      <td>0</td>\n",
       "    </tr>\n",
       "    <tr>\n",
       "      <th>3</th>\n",
       "      <td>3</td>\n",
       "      <td>n4bws7</td>\n",
       "      <td>AskWomen</td>\n",
       "      <td>2021-05-03 20:40:11</td>\n",
       "      <td>False</td>\n",
       "      <td>False</td>\n",
       "      <td>True</td>\n",
       "      <td>1</td>\n",
       "      <td>False</td>\n",
       "      <td>NaN</td>\n",
       "      <td>...</td>\n",
       "      <td>NaN</td>\n",
       "      <td>Saw a post asking what's the most inappropriat...</td>\n",
       "      <td>193</td>\n",
       "      <td>0</td>\n",
       "      <td>194</td>\n",
       "      <td>32</td>\n",
       "      <td>0</td>\n",
       "      <td>32</td>\n",
       "      <td>Saw a post asking what's the most inappropriat...</td>\n",
       "      <td>0</td>\n",
       "    </tr>\n",
       "    <tr>\n",
       "      <th>4</th>\n",
       "      <td>4</td>\n",
       "      <td>n4bumy</td>\n",
       "      <td>AskWomen</td>\n",
       "      <td>2021-05-03 20:37:05</td>\n",
       "      <td>False</td>\n",
       "      <td>False</td>\n",
       "      <td>True</td>\n",
       "      <td>1</td>\n",
       "      <td>False</td>\n",
       "      <td>NaN</td>\n",
       "      <td>...</td>\n",
       "      <td>NaN</td>\n",
       "      <td>What What What What</td>\n",
       "      <td>19</td>\n",
       "      <td>0</td>\n",
       "      <td>20</td>\n",
       "      <td>4</td>\n",
       "      <td>0</td>\n",
       "      <td>4</td>\n",
       "      <td>What What What What</td>\n",
       "      <td>0</td>\n",
       "    </tr>\n",
       "    <tr>\n",
       "      <th>...</th>\n",
       "      <td>...</td>\n",
       "      <td>...</td>\n",
       "      <td>...</td>\n",
       "      <td>...</td>\n",
       "      <td>...</td>\n",
       "      <td>...</td>\n",
       "      <td>...</td>\n",
       "      <td>...</td>\n",
       "      <td>...</td>\n",
       "      <td>...</td>\n",
       "      <td>...</td>\n",
       "      <td>...</td>\n",
       "      <td>...</td>\n",
       "      <td>...</td>\n",
       "      <td>...</td>\n",
       "      <td>...</td>\n",
       "      <td>...</td>\n",
       "      <td>...</td>\n",
       "      <td>...</td>\n",
       "      <td>...</td>\n",
       "      <td>...</td>\n",
       "    </tr>\n",
       "    <tr>\n",
       "      <th>19995</th>\n",
       "      <td>9995</td>\n",
       "      <td>o2bqa8</td>\n",
       "      <td>AskMen</td>\n",
       "      <td>2021-06-17 20:06:41</td>\n",
       "      <td>False</td>\n",
       "      <td>False</td>\n",
       "      <td>True</td>\n",
       "      <td>1</td>\n",
       "      <td>False</td>\n",
       "      <td>False</td>\n",
       "      <td>...</td>\n",
       "      <td>NaN</td>\n",
       "      <td>Dear men, how do you end up marrying the “wron...</td>\n",
       "      <td>55</td>\n",
       "      <td>0</td>\n",
       "      <td>56</td>\n",
       "      <td>11</td>\n",
       "      <td>0</td>\n",
       "      <td>11</td>\n",
       "      <td>Dear men, how do you end up marrying the “wron...</td>\n",
       "      <td>0</td>\n",
       "    </tr>\n",
       "    <tr>\n",
       "      <th>19996</th>\n",
       "      <td>9996</td>\n",
       "      <td>o2bodj</td>\n",
       "      <td>AskMen</td>\n",
       "      <td>2021-06-17 20:03:51</td>\n",
       "      <td>False</td>\n",
       "      <td>False</td>\n",
       "      <td>True</td>\n",
       "      <td>0</td>\n",
       "      <td>False</td>\n",
       "      <td>False</td>\n",
       "      <td>...</td>\n",
       "      <td>NaN</td>\n",
       "      <td>Why is/isn’t racial exclusivity problematic in...</td>\n",
       "      <td>73</td>\n",
       "      <td>0</td>\n",
       "      <td>74</td>\n",
       "      <td>9</td>\n",
       "      <td>0</td>\n",
       "      <td>9</td>\n",
       "      <td>Why is/isn’t racial exclusivity problematic in...</td>\n",
       "      <td>0</td>\n",
       "    </tr>\n",
       "    <tr>\n",
       "      <th>19997</th>\n",
       "      <td>9997</td>\n",
       "      <td>o2blna</td>\n",
       "      <td>AskMen</td>\n",
       "      <td>2021-06-17 20:00:12</td>\n",
       "      <td>False</td>\n",
       "      <td>False</td>\n",
       "      <td>True</td>\n",
       "      <td>1</td>\n",
       "      <td>False</td>\n",
       "      <td>False</td>\n",
       "      <td>...</td>\n",
       "      <td>NaN</td>\n",
       "      <td>Question</td>\n",
       "      <td>8</td>\n",
       "      <td>0</td>\n",
       "      <td>9</td>\n",
       "      <td>1</td>\n",
       "      <td>0</td>\n",
       "      <td>1</td>\n",
       "      <td>Question</td>\n",
       "      <td>0</td>\n",
       "    </tr>\n",
       "    <tr>\n",
       "      <th>19998</th>\n",
       "      <td>9998</td>\n",
       "      <td>o2bjdz</td>\n",
       "      <td>AskMen</td>\n",
       "      <td>2021-06-17 19:57:05</td>\n",
       "      <td>False</td>\n",
       "      <td>False</td>\n",
       "      <td>True</td>\n",
       "      <td>4</td>\n",
       "      <td>False</td>\n",
       "      <td>False</td>\n",
       "      <td>...</td>\n",
       "      <td>NaN</td>\n",
       "      <td>[NSFW] How can I come back to cumming as normal?</td>\n",
       "      <td>48</td>\n",
       "      <td>0</td>\n",
       "      <td>49</td>\n",
       "      <td>10</td>\n",
       "      <td>0</td>\n",
       "      <td>10</td>\n",
       "      <td>[NSFW] How can I come back to cumming as normal?</td>\n",
       "      <td>0</td>\n",
       "    </tr>\n",
       "    <tr>\n",
       "      <th>19999</th>\n",
       "      <td>9999</td>\n",
       "      <td>oc1625</td>\n",
       "      <td>AskMen</td>\n",
       "      <td>2021-07-01 22:45:55</td>\n",
       "      <td>False</td>\n",
       "      <td>False</td>\n",
       "      <td>True</td>\n",
       "      <td>1</td>\n",
       "      <td>False</td>\n",
       "      <td>False</td>\n",
       "      <td>...</td>\n",
       "      <td>My boyfriend and I were casually talking about...</td>\n",
       "      <td>How much would you spend on wedding bands? My ...</td>\n",
       "      <td>42</td>\n",
       "      <td>333</td>\n",
       "      <td>376</td>\n",
       "      <td>8</td>\n",
       "      <td>63</td>\n",
       "      <td>71</td>\n",
       "      <td>How much would you spend on wedding bands? My ...</td>\n",
       "      <td>0</td>\n",
       "    </tr>\n",
       "  </tbody>\n",
       "</table>\n",
       "<p>19988 rows × 27 columns</p>\n",
       "</div>"
      ],
      "text/plain": [
       "       Unnamed: 0      id subreddit          created_utc  is_video  spoiler  \\\n",
       "0               0  n4c2kk  AskWomen  2021-05-03 20:48:28     False    False   \n",
       "1               1  n4c0tz  AskWomen  2021-05-03 20:46:05     False    False   \n",
       "2               2  n4bymt  AskWomen  2021-05-03 20:42:50     False    False   \n",
       "3               3  n4bws7  AskWomen  2021-05-03 20:40:11     False    False   \n",
       "4               4  n4bumy  AskWomen  2021-05-03 20:37:05     False    False   \n",
       "...           ...     ...       ...                  ...       ...      ...   \n",
       "19995        9995  o2bqa8    AskMen  2021-06-17 20:06:41     False    False   \n",
       "19996        9996  o2bodj    AskMen  2021-06-17 20:03:51     False    False   \n",
       "19997        9997  o2blna    AskMen  2021-06-17 20:00:12     False    False   \n",
       "19998        9998  o2bjdz    AskMen  2021-06-17 19:57:05     False    False   \n",
       "19999        9999  oc1625    AskMen  2021-07-01 22:45:55     False    False   \n",
       "\n",
       "       is_self  score  is_original_content is_created_from_ads_ui  ...  \\\n",
       "0         True      1                False                    NaN  ...   \n",
       "1         True      1                False                    NaN  ...   \n",
       "2         True      1                False                    NaN  ...   \n",
       "3         True      1                False                    NaN  ...   \n",
       "4         True      1                False                    NaN  ...   \n",
       "...        ...    ...                  ...                    ...  ...   \n",
       "19995     True      1                False                  False  ...   \n",
       "19996     True      0                False                  False  ...   \n",
       "19997     True      1                False                  False  ...   \n",
       "19998     True      4                False                  False  ...   \n",
       "19999     True      1                False                  False  ...   \n",
       "\n",
       "                                                selftext  \\\n",
       "0                                                    NaN   \n",
       "1                                                    NaN   \n",
       "2                                                    NaN   \n",
       "3                                                    NaN   \n",
       "4                                                    NaN   \n",
       "...                                                  ...   \n",
       "19995                                                NaN   \n",
       "19996                                                NaN   \n",
       "19997                                                NaN   \n",
       "19998                                                NaN   \n",
       "19999  My boyfriend and I were casually talking about...   \n",
       "\n",
       "                                                all_text  title_length  \\\n",
       "0      What is a fragrance you love or you get a lot ...            64   \n",
       "1      Women of reddit (I'm sorry if this has been as...           123   \n",
       "2      What is this called? What is going on? Is this...            54   \n",
       "3      Saw a post asking what's the most inappropriat...           193   \n",
       "4                                   What What What What             19   \n",
       "...                                                  ...           ...   \n",
       "19995  Dear men, how do you end up marrying the “wron...            55   \n",
       "19996  Why is/isn’t racial exclusivity problematic in...            73   \n",
       "19997                                          Question              8   \n",
       "19998  [NSFW] How can I come back to cumming as normal?             48   \n",
       "19999  How much would you spend on wedding bands? My ...            42   \n",
       "\n",
       "       selftext_length all_text_length title_words selftext_words  \\\n",
       "0                    0              65          14              0   \n",
       "1                    0             124          20              0   \n",
       "2                    0              55          11              0   \n",
       "3                    0             194          32              0   \n",
       "4                    0              20           4              0   \n",
       "...                ...             ...         ...            ...   \n",
       "19995                0              56          11              0   \n",
       "19996                0              74           9              0   \n",
       "19997                0               9           1              0   \n",
       "19998                0              49          10              0   \n",
       "19999              333             376           8             63   \n",
       "\n",
       "      all_text_words                                      no_links_text  \\\n",
       "0                 14  What is a fragrance you love or you get a lot ...   \n",
       "1                 20  Women of reddit (I'm sorry if this has been as...   \n",
       "2                 11  What is this called? What is going on? Is this...   \n",
       "3                 32  Saw a post asking what's the most inappropriat...   \n",
       "4                  4                               What What What What    \n",
       "...              ...                                                ...   \n",
       "19995             11  Dear men, how do you end up marrying the “wron...   \n",
       "19996              9  Why is/isn’t racial exclusivity problematic in...   \n",
       "19997              1                                          Question    \n",
       "19998             10  [NSFW] How can I come back to cumming as normal?    \n",
       "19999             71  How much would you spend on wedding bands? My ...   \n",
       "\n",
       "       contains_link  \n",
       "0                  0  \n",
       "1                  0  \n",
       "2                  0  \n",
       "3                  0  \n",
       "4                  0  \n",
       "...              ...  \n",
       "19995              0  \n",
       "19996              0  \n",
       "19997              0  \n",
       "19998              0  \n",
       "19999              0  \n",
       "\n",
       "[19988 rows x 27 columns]"
      ]
     },
     "execution_count": 99,
     "metadata": {},
     "output_type": "execute_result"
    }
   ],
   "source": [
    "df"
   ]
  },
  {
   "cell_type": "markdown",
   "metadata": {},
   "source": [
    "## 2.2. Functions to Facilitate EDA"
   ]
  },
  {
   "cell_type": "markdown",
   "metadata": {},
   "source": [
    "### Functions for Text Handling"
   ]
  },
  {
   "cell_type": "code",
   "execution_count": 100,
   "metadata": {},
   "outputs": [],
   "source": [
    "#Function to get Count Vectorized dataframe output of the dataframe\n",
    "def get_cv(df, text_col, stop_words, min_df, ngram_range):\n",
    "    cv = CountVectorizer(stop_words=stop_words,\n",
    "                         ngram_range = ngram_range,\n",
    "                         min_df= min_df)\n",
    "    cv.fit(df[text_col])\n",
    "    cv_text = cv.transform(df[text_col])\n",
    "    df_cv = pd.DataFrame(cv_text.todense(),columns=cv.get_feature_names())\n",
    "    df = df.rename(columns={\"subreddit\": \"subreddit_target\",\n",
    "                            \"title\": \"subreddit_title\",\n",
    "                            'score': 'subreddit_score',\n",
    "                            'spoiler':'subreddit_spoiler',\n",
    "                            'author':'subreddit_author',\n",
    "                            \"id\": \"subbreddit_id\"})\n",
    "    data = pd.merge(df, df_cv, left_index=True, right_index=True).drop(columns=['Unnamed: 0'])\n",
    "    return data\n",
    "\n",
    "#Function to return the name of all word columns\n",
    "def get_words(df, text_col, stop_words, min_df, ngram_range):\n",
    "    cv = CountVectorizer(stop_words=stop_words,\n",
    "                         ngram_range = ngram_range,\n",
    "                         min_df= min_df)\n",
    "    cv.fit(df[text_col])\n",
    "    cv_text = cv.transform(df[text_col])\n",
    "    df_cv = pd.DataFrame(cv_text.todense(),columns=cv.get_feature_names())\n",
    "    cols = [col for col in df_cv]\n",
    "    return cols\n",
    "\n",
    "#Function to return the top text (words or phrases) in a dataframe\n",
    "def get_top_text(df, target, text_cols, top_n):\n",
    "    #aggregate and flip\n",
    "    data = (df[['subreddit_target']+text_cols]\n",
    "            .groupby('subreddit_target')\n",
    "            .sum().T[target])\n",
    "    #filter out words in remove list\n",
    "    remove_list = ['ve','com','nt','https']\n",
    "    data = data[data.index.isin(remove_list)==False]\n",
    "    data = data[data.index.str.contains(\"com\")==False]\n",
    "    #sort and return top values\n",
    "    data = data.sort_values(ascending=False).head(top_n)\n",
    "    return pd.DataFrame(data)"
   ]
  },
  {
   "cell_type": "markdown",
   "metadata": {},
   "source": [
    "### Functions for Plotting"
   ]
  },
  {
   "cell_type": "code",
   "execution_count": 101,
   "metadata": {},
   "outputs": [],
   "source": [
    "def dist_facet(df, feature, x_label, title):\n",
    "    plot = (ggplot(df, aes(x=feature, fill=\"subreddit\"))\n",
    "                +geom_histogram() \n",
    "                +facet_wrap(\"subreddit\",scales=\"free_y\")\n",
    "                +scale_fill_manual(values = [col1,col2], guide=None)\n",
    "                + xlab(x_label)\n",
    "                + ylab(\"Count\")\n",
    "                +ggtitle(title)\n",
    "                +theme(figure_size=(12, 4),\n",
    "                    text = element_text(family=\"Gill Sans\"),\n",
    "                    plot_title=element_text(weight='bold',color='black', size=16),\n",
    "                    panel_background = element_rect(fill=\"white\"),\n",
    "                    panel_grid_major = element_line(color=\"#dee2e6\"),\n",
    "                    subplots_adjust={'wspace': 0.25},\n",
    "                    legend_position=\"none\",\n",
    "                    axis_title = element_text(weight='bold'))\n",
    "          )\n",
    "    return plot\n",
    "\n",
    "def dist_overlay(df, feature, x_label, title):\n",
    "    plot = (ggplot(df, aes(x=feature, fill=\"subreddit\"))\n",
    "                +geom_histogram() \n",
    "                +scale_fill_manual(values = [col1,col2], guide=guide_legend(title=\"Subreddit\"))\n",
    "                + xlab(x_label)\n",
    "                + ylab(\"Count\")\n",
    "                +ggtitle(title)\n",
    "                +theme(figure_size=(8, 4),\n",
    "                    text = element_text(family=\"Gill Sans\"),\n",
    "                    plot_title=element_text(weight='bold',color='black', size=16),\n",
    "                    panel_background = element_rect(fill=\"white\"),\n",
    "                    panel_grid_major = element_line(color=\"#dee2e6\"),\n",
    "                    subplots_adjust={'wspace': 0.25},\n",
    "                    legend_position=\"right\",legend_box_spacing=.25,\n",
    "                    axis_title = element_text(weight='bold'))\n",
    "          )\n",
    "    return plot"
   ]
  },
  {
   "cell_type": "code",
   "execution_count": 162,
   "metadata": {},
   "outputs": [],
   "source": [
    "#set EDA color aesthetic\n",
    "col1 = '#4499B9'\n",
    "col2 = '#D42E76'"
   ]
  },
  {
   "cell_type": "code",
   "execution_count": 166,
   "metadata": {},
   "outputs": [
    {
     "name": "stderr",
     "output_type": "stream",
     "text": [
      "/Users/tanyashapiro/opt/anaconda3/lib/python3.8/site-packages/sklearn/utils/deprecation.py:87: FutureWarning: Function get_feature_names is deprecated; get_feature_names is deprecated in 1.0 and will be removed in 1.2. Please use get_feature_names_out instead.\n"
     ]
    }
   ],
   "source": [
    "words = get_cv(df, 'no_links_text', 'english', 2, (1,2))\n",
    "word_list = get_words(df, 'no_links_text', 'english', 2, (1,2))"
   ]
  },
  {
   "cell_type": "code",
   "execution_count": 167,
   "metadata": {},
   "outputs": [
    {
     "name": "stderr",
     "output_type": "stream",
     "text": [
      "/var/folders/_t/499y92214db5rwqx_4lz2fk80000gn/T/ipykernel_24788/1645968643.py:8: SettingWithCopyWarning: \n",
      "A value is trying to be set on a copy of a slice from a DataFrame.\n",
      "Try using .loc[row_indexer,col_indexer] = value instead\n",
      "\n",
      "See the caveats in the documentation: https://pandas.pydata.org/pandas-docs/stable/user_guide/indexing.html#returning-a-view-versus-a-copy\n",
      "/Users/tanyashapiro/opt/anaconda3/lib/python3.8/site-packages/pandas/core/frame.py:3718: SettingWithCopyWarning: \n",
      "A value is trying to be set on a copy of a slice from a DataFrame\n",
      "\n",
      "See the caveats in the documentation: https://pandas.pydata.org/pandas-docs/stable/user_guide/indexing.html#returning-a-view-versus-a-copy\n",
      "/var/folders/_t/499y92214db5rwqx_4lz2fk80000gn/T/ipykernel_24788/1645968643.py:9: SettingWithCopyWarning: \n",
      "A value is trying to be set on a copy of a slice from a DataFrame.\n",
      "Try using .loc[row_indexer,col_indexer] = value instead\n",
      "\n",
      "See the caveats in the documentation: https://pandas.pydata.org/pandas-docs/stable/user_guide/indexing.html#returning-a-view-versus-a-copy\n"
     ]
    }
   ],
   "source": [
    "text_words = (words[['subreddit_target']+word_list]\n",
    "            .groupby('subreddit_target')\n",
    "            .sum().T)\n",
    "\n",
    "text_words = text_words.rename(columns={'AskMen':'askmen_word_count',\n",
    "                        'AskWomen':'askwomen_word_count'})\n",
    "text_posts = words[word_list]\n",
    "text_posts[text_posts > 1] = 1\n",
    "text_posts['subreddit_target'] = words['subreddit_target'] \n",
    "text_posts = (text_posts[['subreddit_target']+word_list]\n",
    "            .groupby('subreddit_target')\n",
    "            .sum().T)\n",
    "\n",
    "text_df = pd.merge(text_posts,text_words, left_index=True, right_index=True).rename(columns={'AskWomen':'askwomen_post_count',\n",
    "                        'AskMen':'askmen_post_count'})\n",
    "\n",
    "text_df = text_df.reset_index().rename(columns={'index':'word'})\n",
    "text_df\n",
    "text_df.to_csv(\"../data/text_df_nostops.csv\",index=False)\n"
   ]
  },
  {
   "cell_type": "markdown",
   "metadata": {},
   "source": [
    "## 2.3. Distributions"
   ]
  },
  {
   "cell_type": "code",
   "execution_count": 104,
   "metadata": {},
   "outputs": [
    {
     "name": "stderr",
     "output_type": "stream",
     "text": [
      "/Users/tanyashapiro/opt/anaconda3/lib/python3.8/site-packages/plotnine/ggplot.py:727: PlotnineWarning: Saving 8 x 4 in image.\n",
      "/Users/tanyashapiro/opt/anaconda3/lib/python3.8/site-packages/plotnine/ggplot.py:730: PlotnineWarning: Filename: ../plots/dist_all_words.png\n",
      "/Users/tanyashapiro/opt/anaconda3/lib/python3.8/site-packages/plotnine/stats/stat_bin.py:93: PlotnineWarning: 'stat_bin()' using 'bins = 480'. Pick better value with 'binwidth'.\n",
      "/Users/tanyashapiro/opt/anaconda3/lib/python3.8/site-packages/plotnine/stats/stat_bin.py:93: PlotnineWarning: 'stat_bin()' using 'bins = 480'. Pick better value with 'binwidth'.\n"
     ]
    },
    {
     "data": {
      "image/png": "[encoded data removed]",
      "text/plain": [
       "<Figure size 800x400 with 1 Axes>"
      ]
     },
     "metadata": {},
     "output_type": "display_data"
    },
    {
     "data": {
      "text/plain": [
       "<ggplot: (8773122581773)>"
      ]
     },
     "execution_count": 104,
     "metadata": {},
     "output_type": "execute_result"
    }
   ],
   "source": [
    "dist_all_words = dist_overlay(df[df.all_text_words<400], \"all_text_words\", \"# Words\", \"Distribution of Words\")\n",
    "\n",
    "ggsave(plot=dist_all_words, filename='../plots/dist_all_words.png', dpi=1000)\n",
    "\n",
    "dist_all_words"
   ]
  },
  {
   "cell_type": "code",
   "execution_count": 163,
   "metadata": {},
   "outputs": [
    {
     "name": "stderr",
     "output_type": "stream",
     "text": [
      "/Users/tanyashapiro/opt/anaconda3/lib/python3.8/site-packages/plotnine/ggplot.py:727: PlotnineWarning: Saving 8 x 4 in image.\n",
      "/Users/tanyashapiro/opt/anaconda3/lib/python3.8/site-packages/plotnine/ggplot.py:730: PlotnineWarning: Filename: ../plots/dist_title_length.png\n",
      "/Users/tanyashapiro/opt/anaconda3/lib/python3.8/site-packages/plotnine/stats/stat_bin.py:93: PlotnineWarning: 'stat_bin()' using 'bins = 92'. Pick better value with 'binwidth'.\n",
      "/Users/tanyashapiro/opt/anaconda3/lib/python3.8/site-packages/plotnine/stats/stat_bin.py:93: PlotnineWarning: 'stat_bin()' using 'bins = 92'. Pick better value with 'binwidth'.\n"
     ]
    },
    {
     "data": {
      "image/png": "[encoded data removed]",
      "text/plain": [
       "<Figure size 800x400 with 1 Axes>"
      ]
     },
     "metadata": {},
     "output_type": "display_data"
    },
    {
     "data": {
      "text/plain": [
       "<ggplot: (8773973184028)>"
      ]
     },
     "execution_count": 163,
     "metadata": {},
     "output_type": "execute_result"
    }
   ],
   "source": [
    "dist_title_len = dist_overlay(df, \"title_length\", \"Character Length\", \"Distribution of Title Length\")\n",
    "\n",
    "ggsave(plot=dist_title_len, filename='../plots/dist_title_length.png', dpi=1000)\n",
    "\n",
    "dist_title_len"
   ]
  },
  {
   "cell_type": "code",
   "execution_count": 106,
   "metadata": {},
   "outputs": [
    {
     "name": "stderr",
     "output_type": "stream",
     "text": [
      "/Users/tanyashapiro/opt/anaconda3/lib/python3.8/site-packages/plotnine/ggplot.py:727: PlotnineWarning: Saving 8 x 4 in image.\n",
      "/Users/tanyashapiro/opt/anaconda3/lib/python3.8/site-packages/plotnine/ggplot.py:730: PlotnineWarning: Filename: ../plots/dist_title_length.png\n",
      "/Users/tanyashapiro/opt/anaconda3/lib/python3.8/site-packages/plotnine/stats/stat_bin.py:93: PlotnineWarning: 'stat_bin()' using 'bins = 114'. Pick better value with 'binwidth'.\n",
      "/Users/tanyashapiro/opt/anaconda3/lib/python3.8/site-packages/plotnine/stats/stat_bin.py:93: PlotnineWarning: 'stat_bin()' using 'bins = 114'. Pick better value with 'binwidth'.\n"
     ]
    },
    {
     "data": {
      "image/png": "[encoded data removed]",
      "text/plain": [
       "<Figure size 800x400 with 1 Axes>"
      ]
     },
     "metadata": {},
     "output_type": "display_data"
    },
    {
     "data": {
      "text/plain": [
       "<ggplot: (8773122448797)>"
      ]
     },
     "execution_count": 106,
     "metadata": {},
     "output_type": "execute_result"
    }
   ],
   "source": [
    "dist_title_words = dist_overlay(df, \"title_words\", \"# Words\", \"Distribution of Words in Title\")\n",
    "\n",
    "ggsave(plot=dist_title_words, filename='../plots/dist_title_length.png', dpi=1000)\n",
    "\n",
    "dist_title_words"
   ]
  },
  {
   "cell_type": "markdown",
   "metadata": {},
   "source": [
    "## 2.4. Text Analysis"
   ]
  },
  {
   "cell_type": "markdown",
   "metadata": {},
   "source": [
    "### Popular Words"
   ]
  },
  {
   "cell_type": "code",
   "execution_count": 107,
   "metadata": {},
   "outputs": [
    {
     "name": "stderr",
     "output_type": "stream",
     "text": [
      "/Users/tanyashapiro/opt/anaconda3/lib/python3.8/site-packages/sklearn/utils/deprecation.py:87: FutureWarning: Function get_feature_names is deprecated; get_feature_names is deprecated in 1.0 and will be removed in 1.2. Please use get_feature_names_out instead.\n"
     ]
    }
   ],
   "source": [
    "words = get_cv(df, 'no_links_text', 'english', 2, (1,1))\n",
    "word_list = get_words(df, 'no_links_text', 'english', 2, (1,1))"
   ]
  },
  {
   "cell_type": "code",
   "execution_count": 108,
   "metadata": {},
   "outputs": [],
   "source": [
    "#popular words for subreddit 1\n",
    "top_words_sub1 = get_top_text(words, sub1, word_list, 15).rename(columns={sub1:\"count\"})\n",
    "top_words_sub1 = top_words_sub1.reset_index().rename(columns={\"index\":\"word\"})\n",
    "top_words_sub1['subreddit'] = sub1\n",
    "\n",
    "#popular words for subreddit 2\n",
    "top_words_sub2 = get_top_text(words, sub2, word_list, 15).rename(columns={sub2:\"count\"})\n",
    "top_words_sub2 = top_words_sub2.reset_index().rename(columns={\"index\":\"word\"})\n",
    "top_words_sub2['subreddit'] = sub2\n",
    "\n",
    "#combine data\n",
    "top_words = pd.concat([top_words_sub1,top_words_sub2]).sort_values(by=['subreddit','count'], ascending=False)\n",
    "top_words= top_words.reset_index()\n",
    "\n",
    "#are there common words included in both\n",
    "top_words['shared'] = np.where(top_words.duplicated(subset=\"word\", keep=False),\"Shared Word\",\"\")\n",
    "\n",
    "#used to help properly sort words/phrases in plotnine, reorders shared words/phrases, workaround\n",
    "top_words['fake_suffix'] = np.where(top_words.subreddit == sub1, \"\",\" \")"
   ]
  },
  {
   "cell_type": "code",
   "execution_count": 164,
   "metadata": {},
   "outputs": [
    {
     "name": "stderr",
     "output_type": "stream",
     "text": [
      "/Users/tanyashapiro/opt/anaconda3/lib/python3.8/site-packages/plotnine/ggplot.py:727: PlotnineWarning: Saving 12 x 4 in image.\n",
      "/Users/tanyashapiro/opt/anaconda3/lib/python3.8/site-packages/plotnine/ggplot.py:730: PlotnineWarning: Filename: ../plots/top_words.png\n"
     ]
    },
    {
     "data": {
      "image/png": "[encoded data removed]",
      "text/plain": [
       "<Figure size 1200x400 with 2 Axes>"
      ]
     },
     "metadata": {},
     "output_type": "display_data"
    },
    {
     "data": {
      "text/plain": [
       "<ggplot: (8773122585239)>"
      ]
     },
     "execution_count": 164,
     "metadata": {},
     "output_type": "execute_result"
    }
   ],
   "source": [
    "top_words_plot = (\n",
    "    ggplot(top_words, aes(y= \"count\", x= \"reorder(fake_suffix+word,count)\", fill='subreddit'))\n",
    "        + geom_bar(stat = \"identity\")\n",
    "        + geom_point(data = top_words[top_words.shared==\"Shared Word\"], \n",
    "                     mapping=aes(y=\"count\", x=\"fake_suffix+word\",shape=\"shared\"), \n",
    "                     color='#2D2D2A', fill=\"#2D2D2A\",size=4)\n",
    "        + xlab(\"Word\")\n",
    "        + ylab(\"Word Count\")\n",
    "        + facet_wrap(\"subreddit\", scales=\"free\")\n",
    "        + scale_x_discrete() \n",
    "        + scale_fill_manual(values = [col1,col2], guide=None)\n",
    "        + scale_shape_manual(values=\"*\", guide = guide_legend(title=\"\"))\n",
    "        + coord_flip()\n",
    "        + ggtitle(\"TOP 15 WORDS\")\n",
    "        + theme(figure_size=(12, 4),\n",
    "            text = element_text(family=\"Gill Sans\"),\n",
    "            plot_title=element_text(weight='bold',color='black', size=16),\n",
    "            panel_background = element_rect(fill=\"white\"),\n",
    "            panel_grid_major = element_line(color=\"#dee2e6\"),\n",
    "            legend_position=\"bottom\", legend_box_spacing=.15, legend_key=element_blank(),\n",
    "            strip_background = element_rect(fill=\"#2D2D2A\"),\n",
    "            strip_text=element_text(color=\"white\"),\n",
    "            subplots_adjust={'wspace': 0.25},\n",
    "            axis_title = element_text(weight='bold'))\n",
    "          )\n",
    "\n",
    "ggsave(plot=top_words_plot, filename='../plots/top_words.png', dpi=1000)\n",
    "\n",
    "top_words_plot"
   ]
  },
  {
   "cell_type": "markdown",
   "metadata": {},
   "source": [
    "### Popular Bigrams"
   ]
  },
  {
   "cell_type": "code",
   "execution_count": 110,
   "metadata": {},
   "outputs": [
    {
     "name": "stderr",
     "output_type": "stream",
     "text": [
      "/Users/tanyashapiro/opt/anaconda3/lib/python3.8/site-packages/sklearn/utils/deprecation.py:87: FutureWarning: Function get_feature_names is deprecated; get_feature_names is deprecated in 1.0 and will be removed in 1.2. Please use get_feature_names_out instead.\n"
     ]
    }
   ],
   "source": [
    "bigram = get_cv(df, 'no_links_text', 'english', 2, (2,2))\n",
    "bigram_list = get_words(df, 'no_links_text', 'english', 2, (2,2))"
   ]
  },
  {
   "cell_type": "code",
   "execution_count": 111,
   "metadata": {},
   "outputs": [],
   "source": [
    "top_bis_sub1 = pd.DataFrame(get_top_text(bigram, sub1, bigram_list, 15)).rename(columns={sub1:\"count\"})\n",
    "top_bis_sub1 = top_bis_sub1.reset_index().rename(columns={\"index\":\"phrase\"})\n",
    "top_bis_sub1['subreddit'] = sub1\n",
    "\n",
    "top_bis_sub2 = pd.DataFrame(get_top_text(bigram, sub2, bigram_list, 15)).rename(columns={sub2:\"count\"})\n",
    "top_bis_sub2 = top_bis_sub2.reset_index().rename(columns={\"index\":\"phrase\"})\n",
    "top_bis_sub2['subreddit'] = sub2\n",
    "\n",
    "top_bis = pd.concat([top_bis_sub1,top_bis_sub2]).sort_values(by=['subreddit','count'], ascending=False)\n",
    "top_bis= top_bis.reset_index()\n",
    "\n",
    "#are there common words included in both\n",
    "top_bis['shared'] = np.where(top_bis.duplicated(subset=\"phrase\", keep=False),\"Shared Phrase\",\"\")\n",
    "\n",
    "#used to help properly sort words/phrases in plotnine, reorders shared words/phrases, workaround\n",
    "top_bis['fake_suffix'] = np.where(top_bis.subreddit == sub1, \"\",\" \")"
   ]
  },
  {
   "cell_type": "code",
   "execution_count": 165,
   "metadata": {},
   "outputs": [
    {
     "name": "stderr",
     "output_type": "stream",
     "text": [
      "/Users/tanyashapiro/opt/anaconda3/lib/python3.8/site-packages/plotnine/ggplot.py:727: PlotnineWarning: Saving 12 x 4 in image.\n",
      "/Users/tanyashapiro/opt/anaconda3/lib/python3.8/site-packages/plotnine/ggplot.py:730: PlotnineWarning: Filename: ../plots/top_bigrams.png\n"
     ]
    },
    {
     "data": {
      "image/png": "[encoded data removed]",
      "text/plain": [
       "<Figure size 1200x400 with 2 Axes>"
      ]
     },
     "metadata": {},
     "output_type": "display_data"
    },
    {
     "data": {
      "text/plain": [
       "<ggplot: (8772954854723)>"
      ]
     },
     "execution_count": 165,
     "metadata": {},
     "output_type": "execute_result"
    }
   ],
   "source": [
    "top_bis_plot = (\n",
    "    ggplot(top_bis, aes(y= \"count\", x= \"reorder(fake_suffix+phrase,count)\", fill='subreddit'))\n",
    "        + geom_bar(stat = \"identity\")\n",
    "        + geom_point(data = top_bis[top_bis.shared==\"Shared Phrase\"], \n",
    "                     mapping=aes(y=\"count\", x=\"fake_suffix+phrase\",shape=\"shared\"), \n",
    "                     color='#2D2D2A', fill=\"#2D2D2A\",size=4)\n",
    "        + xlab(\"Phrase\")\n",
    "        + ylab(\"Phrase Count\")\n",
    "        + facet_wrap(\"subreddit\", scales=\"free\")\n",
    "        + scale_x_discrete() \n",
    "        + scale_fill_manual(values = [col1,col2], guide=None)\n",
    "        + scale_shape_manual(values=\"*\", guide = guide_legend(title=\"\"))\n",
    "        + coord_flip()\n",
    "        + ggtitle(\"TOP 15 BIGRAMS\")\n",
    "        + theme(figure_size=(12, 4),\n",
    "            text = element_text(family=\"Gill Sans\"),\n",
    "            plot_title=element_text(weight='bold',color='black', size=16),\n",
    "            panel_background = element_rect(fill=\"white\"),\n",
    "            panel_grid_major = element_line(color=\"#dee2e6\"),\n",
    "            legend_position=\"bottom\", legend_box_spacing=.25, legend_key=element_blank(),\n",
    "            strip_background = element_rect(fill=\"#2D2D2A\"),\n",
    "            strip_text=element_text(color=\"white\"),\n",
    "            subplots_adjust={'wspace': 0.25},\n",
    "            axis_title = element_text(weight='bold'))\n",
    "          )\n",
    "\n",
    "ggsave(plot=top_bis_plot, filename='../plots/top_bigrams.png', dpi=1000)\n",
    "\n",
    "\n",
    "top_bis_plot"
   ]
  },
  {
   "cell_type": "code",
   "execution_count": 131,
   "metadata": {},
   "outputs": [
    {
     "data": {
      "text/plain": [
       "False    0.97525\n",
       "True     0.02475\n",
       "Name: author_premium, dtype: float64"
      ]
     },
     "execution_count": 131,
     "metadata": {},
     "output_type": "execute_result"
    }
   ],
   "source": [
    "df.author_premium.value_counts(normalize=True)"
   ]
  },
  {
   "cell_type": "code",
   "execution_count": 123,
   "metadata": {},
   "outputs": [
    {
     "data": {
      "text/plain": [
       "False    9527\n",
       "True      461\n",
       "Name: over_18, dtype: int64"
      ]
     },
     "execution_count": 123,
     "metadata": {},
     "output_type": "execute_result"
    }
   ],
   "source": [
    "df[df.subreddit=='AskWomen'].over_18.value_counts()"
   ]
  },
  {
   "cell_type": "code",
   "execution_count": 122,
   "metadata": {},
   "outputs": [
    {
     "data": {
      "text/plain": [
       "False    9417\n",
       "True      583\n",
       "Name: over_18, dtype: int64"
      ]
     },
     "execution_count": 122,
     "metadata": {},
     "output_type": "execute_result"
    }
   ],
   "source": [
    "df[df.subreddit=='AskMen'].over_18.value_counts()"
   ]
  },
  {
   "cell_type": "code",
   "execution_count": null,
   "metadata": {},
   "outputs": [],
   "source": []
  },
  {
   "cell_type": "code",
   "execution_count": 159,
   "metadata": {},
   "outputs": [
    {
     "data": {
      "text/plain": [
       "['some question', 'question here', 'here about', 'about sex']"
      ]
     },
     "execution_count": 159,
     "metadata": {},
     "output_type": "execute_result"
    }
   ],
   "source": [
    "[word + ' ' + test[index+1] for index, word in enumerate(test) if index<len(test)-1]"
   ]
  },
  {
   "cell_type": "code",
   "execution_count": null,
   "metadata": {},
   "outputs": [],
   "source": []
  }
 ],
 "metadata": {
  "kernelspec": {
   "display_name": "Python 3 (ipykernel)",
   "language": "python",
   "name": "python3"
  },
  "language_info": {
   "codemirror_mode": {
    "name": "ipython",
    "version": 3
   },
   "file_extension": ".py",
   "mimetype": "text/x-python",
   "name": "python",
   "nbconvert_exporter": "python",
   "pygments_lexer": "ipython3",
   "version": "3.8.12"
  }
 },
 "nbformat": 4,
 "nbformat_minor": 4
}
